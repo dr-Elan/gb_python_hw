{
 "cells": [
  {
   "cell_type": "code",
   "execution_count": 25,
   "id": "6bfe7496",
   "metadata": {},
   "outputs": [],
   "source": [
    "import numpy as np\n",
    "import scipy.stats as stats"
   ]
  },
  {
   "cell_type": "markdown",
   "id": "e52a49f3",
   "metadata": {},
   "source": [
    "# Задача 1"
   ]
  },
  {
   "cell_type": "code",
   "execution_count": null,
   "id": "a474cd33",
   "metadata": {},
   "outputs": [],
   "source": [
    "'''Даны значения величины заработной платы заемщиков банка (zp) и значения их поведенческого кредитного скоринга (ks):\n",
    "zp = [35, 45, 190, 200, 40, 70, 54, 150, 120, 110],\n",
    "ks = [401, 574, 874, 919, 459, 739, 653, 902, 746, 832].\n",
    "Найдите ковариацию этих двух величин с помощью элементарных действий, а затем с помощью функции cov из numpy\n",
    "Полученные значения должны быть равны.\n",
    "Найдите коэффициент корреляции Пирсона с помощью ковариации и среднеквадратичных отклонений двух признаков,\n",
    "'''"
   ]
  },
  {
   "cell_type": "code",
   "execution_count": 12,
   "id": "c00246e9",
   "metadata": {},
   "outputs": [
    {
     "name": "stdout",
     "output_type": "stream",
     "text": [
      "10175.377777777778\n"
     ]
    }
   ],
   "source": [
    "zp = [35, 45, 190, 200, 40, 70, 54, 150, 120, 110]\n",
    "ks = [401, 574, 874, 919, 459, 739, 653, 902, 746, 832]\n",
    "covariation = 0\n",
    "for i,j in zip(zp,ks):\n",
    "    covariation += (i-np.mean(zp))*(j-np.mean(ks))\n",
    "print(covariation/(len(zp)-1))"
   ]
  },
  {
   "cell_type": "code",
   "execution_count": 11,
   "id": "8174c996",
   "metadata": {},
   "outputs": [
    {
     "data": {
      "text/plain": [
       "array([[ 3882.93333333, 10175.37777778],\n",
       "       [10175.37777778, 33854.32222222]])"
      ]
     },
     "execution_count": 11,
     "metadata": {},
     "output_type": "execute_result"
    }
   ],
   "source": [
    "np.cov(zp, ks)"
   ]
  },
  {
   "cell_type": "markdown",
   "id": "4e26d2bb",
   "metadata": {},
   "source": [
    "# Задача 2 "
   ]
  },
  {
   "cell_type": "code",
   "execution_count": null,
   "id": "5748a8a0",
   "metadata": {},
   "outputs": [],
   "source": [
    "'''\n",
    "Измерены значения IQ выборки студентов,\n",
    "обучающихся в местных технических вузах:\n",
    "131, 125, 115, 122, 131, 115, 107, 99, 125, 111.\n",
    "Известно, что в генеральной совокупности IQ распределен нормально.\n",
    "Найдите доверительный интервал для математического ожидания с надежностью 0.95.\n",
    "'''"
   ]
  },
  {
   "cell_type": "code",
   "execution_count": 16,
   "id": "34836c1c",
   "metadata": {},
   "outputs": [],
   "source": [
    "x = [131, 125, 115, 122, 131, 115, 107, 99, 125, 111]\n",
    "t = stats.t.ppf(0.975, len(x)-1)\n",
    "D = np.var(x,ddof=1)\n",
    "SE = np.sqrt(D)\n",
    "L = np.mean(x) - t*SE/np.sqrt(len(x))\n",
    "U = np.mean(x) + t*SE/np.sqrt(len(x)) "
   ]
  },
  {
   "cell_type": "markdown",
   "id": "6c9f3fcd",
   "metadata": {},
   "source": [
    "### Левая часть доверительного интервала "
   ]
  },
  {
   "cell_type": "code",
   "execution_count": 17,
   "id": "ea18b227",
   "metadata": {},
   "outputs": [
    {
     "data": {
      "text/plain": [
       "110.55608365158724"
      ]
     },
     "execution_count": 17,
     "metadata": {},
     "output_type": "execute_result"
    }
   ],
   "source": [
    "L"
   ]
  },
  {
   "cell_type": "markdown",
   "id": "3dcea040",
   "metadata": {},
   "source": [
    "### Правая часть доверительного интервала "
   ]
  },
  {
   "cell_type": "code",
   "execution_count": 18,
   "id": "ba7a646e",
   "metadata": {},
   "outputs": [
    {
     "data": {
      "text/plain": [
       "125.64391634841274"
      ]
     },
     "execution_count": 18,
     "metadata": {},
     "output_type": "execute_result"
    }
   ],
   "source": [
    "U"
   ]
  },
  {
   "cell_type": "markdown",
   "id": "aedb9bbd",
   "metadata": {},
   "source": [
    "# Задача 3"
   ]
  },
  {
   "cell_type": "code",
   "execution_count": null,
   "id": "5ec96720",
   "metadata": {},
   "outputs": [],
   "source": [
    "'''\n",
    "Известно, что рост футболистов в сборной распределен нормально\n",
    "с дисперсией генеральной совокупности, равной 25 кв.см. Объем выборки равен 27,\n",
    "среднее выборочное составляет 174.2. Найдите доверительный интервал для математического\n",
    "ожидания с надежностью 0.95.\n",
    "'''"
   ]
  },
  {
   "cell_type": "code",
   "execution_count": 20,
   "id": "454542fa",
   "metadata": {},
   "outputs": [],
   "source": [
    "x_mean = 174.2\n",
    "sigma = 25\n",
    "n = 27\n",
    "right = x_mean + sigma*t/np.sqrt(n)\n",
    "left = x_mean - sigma*t/np.sqrt(n)"
   ]
  },
  {
   "cell_type": "code",
   "execution_count": 23,
   "id": "aa7be6c8",
   "metadata": {},
   "outputs": [
    {
     "data": {
      "text/plain": [
       "163.3161912761854"
      ]
     },
     "execution_count": 23,
     "metadata": {},
     "output_type": "execute_result"
    }
   ],
   "source": [
    "# Левая граница интервала \n",
    "left"
   ]
  },
  {
   "cell_type": "code",
   "execution_count": 24,
   "id": "9479fe60",
   "metadata": {},
   "outputs": [
    {
     "data": {
      "text/plain": [
       "185.08380872381457"
      ]
     },
     "execution_count": 24,
     "metadata": {},
     "output_type": "execute_result"
    }
   ],
   "source": [
    "# Правая граница интервала \n",
    "right"
   ]
  }
 ],
 "metadata": {
  "kernelspec": {
   "display_name": "Python 3",
   "language": "python",
   "name": "python3"
  },
  "language_info": {
   "codemirror_mode": {
    "name": "ipython",
    "version": 3
   },
   "file_extension": ".py",
   "mimetype": "text/x-python",
   "name": "python",
   "nbconvert_exporter": "python",
   "pygments_lexer": "ipython3",
   "version": "3.8.8"
  }
 },
 "nbformat": 4,
 "nbformat_minor": 5
}
