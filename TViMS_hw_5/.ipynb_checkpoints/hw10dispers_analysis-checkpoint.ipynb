{
 "cells": [
  {
   "cell_type": "code",
   "execution_count": 90,
   "id": "118615f5",
   "metadata": {},
   "outputs": [],
   "source": [
    "import numpy as np\n",
    "from scipy import stats\n",
    "import matplotlib.pyplot as plt"
   ]
  },
  {
   "cell_type": "code",
   "execution_count": 143,
   "id": "6193bdd1",
   "metadata": {},
   "outputs": [
    {
     "data": {
      "text/plain": [
       "array([173, 175, 180, 178, 177, 185, 183, 182, 177, 179, 180, 188, 177,\n",
       "       172, 171, 184, 180, 172, 173, 169, 177, 166, 180, 178, 177, 172,\n",
       "       166, 170])"
      ]
     },
     "execution_count": 143,
     "metadata": {},
     "output_type": "execute_result"
    }
   ],
   "source": [
    "k = 3 # количество выборок\n",
    "football = np.array([173, 175, 180, 178, 177, 185, 183, 182])\n",
    "hockey = np.array([177, 179, 180, 188, 177, 172, 171, 184, 180])\n",
    "shtangy = np.array([172, 173, 169, 177, 166, 180, 178, 177, 172, 166, 170])\n",
    "n1 = len(football)\n",
    "n2 = len(hockey)\n",
    "n3 = len(shtangy)\n",
    "n=n1+n2+n3\n",
    "total = np.append(football, hockey)\n",
    "total = np.append(total, shtangy)\n",
    "total"
   ]
  },
  {
   "cell_type": "code",
   "execution_count": 144,
   "id": "172d8eaf",
   "metadata": {},
   "outputs": [
    {
     "data": {
      "text/plain": [
       "176.46428571428572"
      ]
     },
     "execution_count": 144,
     "metadata": {},
     "output_type": "execute_result"
    }
   ],
   "source": [
    "foot_mean = np.mean(football)\n",
    "hock_mean = np.mean(hockey)\n",
    "shtang_mean = np.mean(shtangy)\n",
    "total_mean = np.mean(total)\n",
    "total_mean"
   ]
  },
  {
   "cell_type": "code",
   "execution_count": 136,
   "id": "51e273d2",
   "metadata": {},
   "outputs": [
    {
     "data": {
      "text/plain": [
       "830.9642857142854"
      ]
     },
     "execution_count": 136,
     "metadata": {},
     "output_type": "execute_result"
    }
   ],
   "source": [
    "# Сумма квадратов отклонений наблюдейни от общего среднего\n",
    "np.sum((total - total_mean)**2)"
   ]
  },
  {
   "cell_type": "code",
   "execution_count": 154,
   "id": "1bff088c",
   "metadata": {},
   "outputs": [
    {
     "data": {
      "text/plain": [
       "253.9074675324678"
      ]
     },
     "execution_count": 154,
     "metadata": {},
     "output_type": "execute_result"
    }
   ],
   "source": [
    "# Сумма квадратов отклонений средних групповых значений от общего среднего\n",
    "s_f = n1*np.sum((np.mean(football) -total_mean)**2) + n2*np.sum((np.mean(hockey) - total_mean)**2)  + n3*np.sum((np.mean(shtangy) - total_mean)**2)\n",
    "s_f"
   ]
  },
  {
   "cell_type": "code",
   "execution_count": 155,
   "id": "c1e82391",
   "metadata": {},
   "outputs": [
    {
     "data": {
      "text/plain": [
       "577.0568181818182"
      ]
     },
     "execution_count": 155,
     "metadata": {},
     "output_type": "execute_result"
    }
   ],
   "source": [
    "# Остаточная сумма квадратов отклонений\n",
    "s_ost = np.sum((football - np.mean(football))**2) + np.sum((hockey - np.mean(hockey))**2)  + np.sum((shtangy - np.mean(shtangy))**2)\n",
    "s_ost"
   ]
  },
  {
   "cell_type": "code",
   "execution_count": 156,
   "id": "531a53ef",
   "metadata": {},
   "outputs": [
    {
     "data": {
      "text/plain": [
       "830.964285714286"
      ]
     },
     "execution_count": 156,
     "metadata": {},
     "output_type": "execute_result"
    }
   ],
   "source": [
    "#s_f + s_ost\n",
    "s_f + s_ost"
   ]
  },
  {
   "cell_type": "code",
   "execution_count": 157,
   "id": "7b3c73ee",
   "metadata": {},
   "outputs": [
    {
     "data": {
      "text/plain": [
       "126.9537337662339"
      ]
     },
     "execution_count": 157,
     "metadata": {},
     "output_type": "execute_result"
    }
   ],
   "source": [
    "D_f = s_f/(k-1)\n",
    "D_f"
   ]
  },
  {
   "cell_type": "code",
   "execution_count": 158,
   "id": "8f8cafbe",
   "metadata": {},
   "outputs": [
    {
     "data": {
      "text/plain": [
       "23.08227272727273"
      ]
     },
     "execution_count": 158,
     "metadata": {},
     "output_type": "execute_result"
    }
   ],
   "source": [
    "D_ost = s_ost /(n-k)\n",
    "D_ost"
   ]
  },
  {
   "cell_type": "code",
   "execution_count": 159,
   "id": "ee1ab256",
   "metadata": {},
   "outputs": [
    {
     "data": {
      "text/plain": [
       "5.500053450812598"
      ]
     },
     "execution_count": 159,
     "metadata": {},
     "output_type": "execute_result"
    }
   ],
   "source": [
    "F_n = D_f/D_ost\n",
    "F_n"
   ]
  },
  {
   "cell_type": "code",
   "execution_count": 151,
   "id": "bff1637a",
   "metadata": {},
   "outputs": [
    {
     "data": {
      "text/plain": [
       "F_onewayResult(statistic=5.500053450812596, pvalue=0.010482206918698694)"
      ]
     },
     "execution_count": 151,
     "metadata": {},
     "output_type": "execute_result"
    }
   ],
   "source": [
    "f = stats.f_oneway(football,hockey,shtangy)\n",
    "f"
   ]
  }
 ],
 "metadata": {
  "kernelspec": {
   "display_name": "Python 3",
   "language": "python",
   "name": "python3"
  },
  "language_info": {
   "codemirror_mode": {
    "name": "ipython",
    "version": 3
   },
   "file_extension": ".py",
   "mimetype": "text/x-python",
   "name": "python",
   "nbconvert_exporter": "python",
   "pygments_lexer": "ipython3",
   "version": "3.8.8"
  }
 },
 "nbformat": 4,
 "nbformat_minor": 5
}
