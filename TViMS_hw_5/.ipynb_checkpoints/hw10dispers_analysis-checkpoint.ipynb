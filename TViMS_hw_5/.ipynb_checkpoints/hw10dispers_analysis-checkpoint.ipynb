{
 "cells": [
  {
   "cell_type": "code",
   "execution_count": 90,
   "id": "7161ca2c",
   "metadata": {},
   "outputs": [],
   "source": [
    "import numpy as np\n",
    "from scipy import stats\n",
    "import matplotlib.pyplot as plt"
   ]
  },
  {
   "cell_type": "code",
   "execution_count": 123,
   "id": "8929b69b",
   "metadata": {},
   "outputs": [
    {
     "data": {
      "text/plain": [
       "array([173, 175, 180, 178, 177, 185, 183, 182, 177, 179, 180, 188, 177,\n",
       "       172, 171, 184, 180, 172, 173, 169, 177, 166, 180, 178, 177, 172,\n",
       "       166, 170])"
      ]
     },
     "execution_count": 123,
     "metadata": {},
     "output_type": "execute_result"
    }
   ],
   "source": [
    "k = 3 # количество выборок\n",
    "n = len(football)\n",
    "football = np.array([173, 175, 180, 178, 177, 185, 183, 182])\n",
    "hockey = np.array([177, 179, 180, 188, 177, 172, 171, 184, 180])\n",
    "shtangy = np.array([172, 173, 169, 177, 166, 180, 178, 177, 172, 166, 170])\n",
    "total = np.append(football, hockey)\n",
    "total = np.append(total, shtangy)\n",
    "total"
   ]
  },
  {
   "cell_type": "code",
   "execution_count": 124,
   "id": "eaa3eb06",
   "metadata": {},
   "outputs": [
    {
     "data": {
      "text/plain": [
       "176.46428571428572"
      ]
     },
     "execution_count": 124,
     "metadata": {},
     "output_type": "execute_result"
    }
   ],
   "source": [
    "foot_mean = np.mean(football)\n",
    "hock_mean = np.mean(hockey)\n",
    "shtang_mean = np.mean(shtangy)\n",
    "total_mean = np.mean(total)\n",
    "total_mean"
   ]
  },
  {
   "cell_type": "code",
   "execution_count": 125,
   "id": "db021be5",
   "metadata": {},
   "outputs": [
    {
     "data": {
      "text/plain": [
       "830.9642857142854"
      ]
     },
     "execution_count": 125,
     "metadata": {},
     "output_type": "execute_result"
    }
   ],
   "source": [
    "# Сумма квадратов отклонений наблюдейни от общего среднего\n",
    "np.sum((total - total_mean)**2)"
   ]
  },
  {
   "cell_type": "code",
   "execution_count": 126,
   "id": "c20216a9",
   "metadata": {},
   "outputs": [
    {
     "data": {
      "text/plain": [
       "8070.76785714286"
      ]
     },
     "execution_count": 126,
     "metadata": {},
     "output_type": "execute_result"
    }
   ],
   "source": [
    "# Сумма квадратов отклонений средних групповых значений от общего среднего\n",
    "s_f = np.sum((football -total_mean)**2)*len(football) + np.sum((hockey - total_mean)**2)*len(hockey)  + np.sum((shtangy - total_mean)**2)*len(shtangy)\n",
    "s_f"
   ]
  },
  {
   "cell_type": "code",
   "execution_count": 127,
   "id": "6f145855",
   "metadata": {},
   "outputs": [
    {
     "data": {
      "text/plain": [
       "577.0568181818182"
      ]
     },
     "execution_count": 127,
     "metadata": {},
     "output_type": "execute_result"
    }
   ],
   "source": [
    "# Остаточная сумма квадратов отклонений\n",
    "s_ost = np.sum((football - np.mean(football))**2) + np.sum((hockey - np.mean(hockey))**2)  + np.sum((shtangy - np.mean(shtangy))**2)\n",
    "s_ost"
   ]
  },
  {
   "cell_type": "code",
   "execution_count": 128,
   "id": "19b016c3",
   "metadata": {},
   "outputs": [
    {
     "data": {
      "text/plain": [
       "8647.824675324679"
      ]
     },
     "execution_count": 128,
     "metadata": {},
     "output_type": "execute_result"
    }
   ],
   "source": [
    "#s_f + s_ost\n",
    "s_f + s_ost"
   ]
  },
  {
   "cell_type": "code",
   "execution_count": 129,
   "id": "bdfa3f42",
   "metadata": {},
   "outputs": [
    {
     "data": {
      "text/plain": [
       "4035.38392857143"
      ]
     },
     "execution_count": 129,
     "metadata": {},
     "output_type": "execute_result"
    }
   ],
   "source": [
    "D_f = s_f/(k-1)\n",
    "D_f"
   ]
  },
  {
   "cell_type": "code",
   "execution_count": 130,
   "id": "ed03d80a",
   "metadata": {},
   "outputs": [
    {
     "data": {
      "text/plain": [
       "115.41136363636365"
      ]
     },
     "execution_count": 130,
     "metadata": {},
     "output_type": "execute_result"
    }
   ],
   "source": [
    "D_ost = s_ost /(n-k)\n",
    "D_ost"
   ]
  },
  {
   "cell_type": "code",
   "execution_count": 131,
   "id": "3bc20a07",
   "metadata": {},
   "outputs": [
    {
     "data": {
      "text/plain": [
       "34.96522180680626"
      ]
     },
     "execution_count": 131,
     "metadata": {},
     "output_type": "execute_result"
    }
   ],
   "source": [
    "F_n = D_f/D_ost\n",
    "F_n"
   ]
  },
  {
   "cell_type": "code",
   "execution_count": 133,
   "id": "8ae27624",
   "metadata": {},
   "outputs": [
    {
     "data": {
      "text/plain": [
       "F_onewayResult(statistic=5.500053450812596, pvalue=0.010482206918698694)"
      ]
     },
     "execution_count": 133,
     "metadata": {},
     "output_type": "execute_result"
    }
   ],
   "source": [
    "f = stats.f_oneway(football,hockey,shtangy)\n",
    "f"
   ]
  },
  {
   "cell_type": "code",
   "execution_count": null,
   "id": "ae887eb4",
   "metadata": {},
   "outputs": [],
   "source": []
  },
  {
   "cell_type": "code",
   "execution_count": null,
   "id": "5d4d23fb",
   "metadata": {},
   "outputs": [],
   "source": []
  }
 ],
 "metadata": {
  "kernelspec": {
   "display_name": "Python 3",
   "language": "python",
   "name": "python3"
  },
  "language_info": {
   "codemirror_mode": {
    "name": "ipython",
    "version": 3
   },
   "file_extension": ".py",
   "mimetype": "text/x-python",
   "name": "python",
   "nbconvert_exporter": "python",
   "pygments_lexer": "ipython3",
   "version": "3.8.8"
  }
 },
 "nbformat": 4,
 "nbformat_minor": 5
}
