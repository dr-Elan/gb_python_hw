{
 "cells": [
  {
   "cell_type": "code",
   "execution_count": 4,
   "id": "9c91dba9",
   "metadata": {},
   "outputs": [],
   "source": [
    "import numpy as np"
   ]
  },
  {
   "cell_type": "markdown",
   "id": "ecaa34c2",
   "metadata": {},
   "source": [
    "# Задание №1 "
   ]
  },
  {
   "cell_type": "code",
   "execution_count": 1,
   "id": "5348293d",
   "metadata": {},
   "outputs": [],
   "source": [
    "graduate = [100, 80, 75, 77, 89, 33, 45, 25, 65, 17, 30, 24, 57, 55, 70, 75, 65, 84, 90, 150]"
   ]
  },
  {
   "cell_type": "markdown",
   "id": "15645e03",
   "metadata": {},
   "source": [
    "### Среднее значение"
   ]
  },
  {
   "cell_type": "code",
   "execution_count": 3,
   "id": "927644e4",
   "metadata": {},
   "outputs": [
    {
     "name": "stdout",
     "output_type": "stream",
     "text": [
      "65.3\n"
     ]
    }
   ],
   "source": [
    "mean_val = sum(graduate)/len(graduate)\n",
    "print(mean_val)"
   ]
  },
  {
   "cell_type": "markdown",
   "id": "ea2c020a",
   "metadata": {},
   "source": [
    "### Среднее квадратическое отклонение"
   ]
  },
  {
   "cell_type": "code",
   "execution_count": 12,
   "id": "3e640066",
   "metadata": {},
   "outputs": [
    {
     "name": "stdout",
     "output_type": "stream",
     "text": [
      "31.624607341019814\n"
     ]
    }
   ],
   "source": [
    "std_error = np.sqrt(sum(list(map(lambda x: (x-mean_val)**2, graduate)))/(len(graduate)-1))\n",
    "print(std_error)"
   ]
  },
  {
   "cell_type": "markdown",
   "id": "4badfa65",
   "metadata": {},
   "source": [
    "### Дисперсия"
   ]
  },
  {
   "cell_type": "code",
   "execution_count": 15,
   "id": "e4e5c7f7",
   "metadata": {},
   "outputs": [
    {
     "name": "stdout",
     "output_type": "stream",
     "text": [
      "950.11\n"
     ]
    }
   ],
   "source": [
    "disper = sum(list(map(lambda x: (x-mean_val)**2, graduate)))/len(graduate)\n",
    "print(disper)"
   ]
  },
  {
   "cell_type": "markdown",
   "id": "5214828c",
   "metadata": {},
   "source": [
    "### Исправленная выборочная дисперсия"
   ]
  },
  {
   "cell_type": "code",
   "execution_count": 17,
   "id": "5b4f16de",
   "metadata": {},
   "outputs": [
    {
     "name": "stdout",
     "output_type": "stream",
     "text": [
      "1000.1157894736842\n"
     ]
    }
   ],
   "source": [
    "isprav_disper = disper*len(graduate)/(len(graduate)-1)\n",
    "print(isprav_disper)"
   ]
  },
  {
   "cell_type": "markdown",
   "id": "744cf2f8",
   "metadata": {},
   "source": [
    "# Задача 2"
   ]
  },
  {
   "cell_type": "code",
   "execution_count": 19,
   "id": "3600c5df",
   "metadata": {},
   "outputs": [],
   "source": [
    "import math"
   ]
  },
  {
   "cell_type": "code",
   "execution_count": 22,
   "id": "d8ab5355",
   "metadata": {},
   "outputs": [],
   "source": [
    "comb_property = 0\n",
    "for i in range(0, 4):\n",
    "    comb_property += (math.comb(5,i)*math.comb(3,3-i)/math.comb(8,3))*(math.comb(7,0)*math.comb(5,3-i)/math.comb(12,3))"
   ]
  },
  {
   "cell_type": "code",
   "execution_count": 24,
   "id": "6c1b306f",
   "metadata": {},
   "outputs": [
    {
     "name": "stdout",
     "output_type": "stream",
     "text": [
      "0.025974025974025976\n"
     ]
    }
   ],
   "source": [
    "print(comb_property)"
   ]
  },
  {
   "cell_type": "markdown",
   "id": "d43e2a0a",
   "metadata": {},
   "source": [
    "# Задача 3"
   ]
  },
  {
   "cell_type": "markdown",
   "id": "92a6f5ba",
   "metadata": {},
   "source": [
    "$$ P(H_1 | A) = \\frac{\\frac{1}{3}*0.9}{(\\frac{1}{3}*0.9+\\frac{1}{3}*0.8+\\frac{1}{3}*0.6)}\n",
    "$$"
   ]
  },
  {
   "cell_type": "code",
   "execution_count": 30,
   "id": "cda67fa8",
   "metadata": {},
   "outputs": [
    {
     "data": {
      "text/plain": [
       "0.391304347826087"
      ]
     },
     "execution_count": 30,
     "metadata": {},
     "output_type": "execute_result"
    }
   ],
   "source": [
    "(1/3*0.9)/(1/3*0.9+1/3*0.8+1/3*0.6)"
   ]
  },
  {
   "cell_type": "markdown",
   "id": "38b06b3a",
   "metadata": {},
   "source": [
    "$$ P(H_2 | A) = \\frac{\\frac{1}{3}*0.8}{(\\frac{1}{3}*0.9+\\frac{1}{3}*0.8+\\frac{1}{3}*0.6)}\n",
    "$$"
   ]
  },
  {
   "cell_type": "code",
   "execution_count": 31,
   "id": "a4a7604d",
   "metadata": {},
   "outputs": [
    {
     "data": {
      "text/plain": [
       "0.3478260869565218"
      ]
     },
     "execution_count": 31,
     "metadata": {},
     "output_type": "execute_result"
    }
   ],
   "source": [
    "(1/3*0.8)/(1/3*0.9+1/3*0.8+1/3*0.6)"
   ]
  },
  {
   "cell_type": "markdown",
   "id": "aebf1ae6",
   "metadata": {},
   "source": [
    "$$ P(H_3 | A) = \\frac{\\frac{1}{3}*0.6}{(\\frac{1}{3}*0.9+\\frac{1}{3}*0.8+\\frac{1}{3}*0.6)}\n",
    "$$"
   ]
  },
  {
   "cell_type": "code",
   "execution_count": 32,
   "id": "03234850",
   "metadata": {},
   "outputs": [
    {
     "data": {
      "text/plain": [
       "0.2608695652173913"
      ]
     },
     "execution_count": 32,
     "metadata": {},
     "output_type": "execute_result"
    }
   ],
   "source": [
    "(1/3*0.6)/(1/3*0.9+1/3*0.8+1/3*0.6)"
   ]
  },
  {
   "cell_type": "markdown",
   "id": "c83238b9",
   "metadata": {},
   "source": [
    "# Задача 4"
   ]
  },
  {
   "cell_type": "markdown",
   "id": "0824c97f",
   "metadata": {},
   "source": [
    "$$P(H_1)=0.25;\\; P(H_2) = 0.25; \\; P(H_3) = 0.5. $$"
   ]
  },
  {
   "cell_type": "markdown",
   "id": "3dde637e",
   "metadata": {},
   "source": [
    "$$P(H_1|A)=(0.25*0.8)/(0.25*0.8+0.7*0.25+0.9*0.5)$$"
   ]
  },
  {
   "cell_type": "code",
   "execution_count": 38,
   "id": "193ae9aa",
   "metadata": {},
   "outputs": [
    {
     "data": {
      "text/plain": [
       "0.24242424242424246"
      ]
     },
     "execution_count": 38,
     "metadata": {},
     "output_type": "execute_result"
    }
   ],
   "source": [
    "(0.25*0.8)/(0.25*0.8+0.7*0.25+0.9*0.5)"
   ]
  },
  {
   "cell_type": "markdown",
   "id": "a6efee0c",
   "metadata": {},
   "source": [
    "$$P(H_2|A)=(0.25*0.7)/(0.25*0.8+0.7*0.25+0.9*0.5)$$"
   ]
  },
  {
   "cell_type": "code",
   "execution_count": 39,
   "id": "71e39ef8",
   "metadata": {},
   "outputs": [
    {
     "data": {
      "text/plain": [
       "0.21212121212121213"
      ]
     },
     "execution_count": 39,
     "metadata": {},
     "output_type": "execute_result"
    }
   ],
   "source": [
    "(0.25*0.7)/(0.25*0.8+0.7*0.25+0.9*0.5)"
   ]
  },
  {
   "cell_type": "markdown",
   "id": "452bea6a",
   "metadata": {},
   "source": [
    "$$P(H_3|A)=(0.25*0.7)/(0.25*0.8+0.7*0.25+0.9*0.5)$$"
   ]
  },
  {
   "cell_type": "code",
   "execution_count": 40,
   "id": "23df6f5a",
   "metadata": {},
   "outputs": [
    {
     "data": {
      "text/plain": [
       "0.5454545454545455"
      ]
     },
     "execution_count": 40,
     "metadata": {},
     "output_type": "execute_result"
    }
   ],
   "source": [
    "(0.5*0.9)/(0.25*0.8+0.7*0.25+0.9*0.5)"
   ]
  },
  {
   "cell_type": "markdown",
   "id": "748dede4",
   "metadata": {},
   "source": [
    "# Задача 5"
   ]
  },
  {
   "cell_type": "markdown",
   "id": "6d3495ba",
   "metadata": {},
   "source": [
    "### Все детали"
   ]
  },
  {
   "cell_type": "code",
   "execution_count": 41,
   "id": "7d61c166",
   "metadata": {},
   "outputs": [
    {
     "data": {
      "text/plain": [
       "0.005000000000000001"
      ]
     },
     "execution_count": 41,
     "metadata": {},
     "output_type": "execute_result"
    }
   ],
   "source": [
    "0.1*0.2*0.25"
   ]
  },
  {
   "cell_type": "markdown",
   "id": "389daf97",
   "metadata": {},
   "source": [
    "### Только две детали"
   ]
  },
  {
   "cell_type": "code",
   "execution_count": 44,
   "id": "81dfd6ab",
   "metadata": {},
   "outputs": [
    {
     "data": {
      "text/plain": [
       "0.08000000000000002"
      ]
     },
     "execution_count": 44,
     "metadata": {},
     "output_type": "execute_result"
    }
   ],
   "source": [
    "0.1*0.2*0.75+0.9*0.2*0.25+0.1*0.8*0.25"
   ]
  },
  {
   "cell_type": "markdown",
   "id": "592bb7a2",
   "metadata": {},
   "source": [
    "### Только одна деталь"
   ]
  },
  {
   "cell_type": "code",
   "execution_count": 45,
   "id": "cd17972c",
   "metadata": {},
   "outputs": [
    {
     "data": {
      "text/plain": [
       "0.37500000000000006"
      ]
     },
     "execution_count": 45,
     "metadata": {},
     "output_type": "execute_result"
    }
   ],
   "source": [
    "0.9*0.8*0.25+0.9*0.2*0.75+0.1*0.8*0.75"
   ]
  },
  {
   "cell_type": "markdown",
   "id": "4807a9dd",
   "metadata": {},
   "source": [
    "### От одной до двух деталей"
   ]
  },
  {
   "cell_type": "code",
   "execution_count": 46,
   "id": "136d1bd9",
   "metadata": {},
   "outputs": [
    {
     "data": {
      "text/plain": [
       "0.45500000000000007"
      ]
     },
     "execution_count": 46,
     "metadata": {},
     "output_type": "execute_result"
    }
   ],
   "source": [
    "0.9*0.8*0.25+0.9*0.2*0.75+0.1*0.8*0.75+0.1*0.2*0.75+0.9*0.2*0.25+0.1*0.8*0.25"
   ]
  },
  {
   "cell_type": "code",
   "execution_count": null,
   "id": "b52235ba",
   "metadata": {},
   "outputs": [],
   "source": []
  }
 ],
 "metadata": {
  "kernelspec": {
   "display_name": "Python 3",
   "language": "python",
   "name": "python3"
  },
  "language_info": {
   "codemirror_mode": {
    "name": "ipython",
    "version": 3
   },
   "file_extension": ".py",
   "mimetype": "text/x-python",
   "name": "python",
   "nbconvert_exporter": "python",
   "pygments_lexer": "ipython3",
   "version": "3.8.8"
  }
 },
 "nbformat": 4,
 "nbformat_minor": 5
}
