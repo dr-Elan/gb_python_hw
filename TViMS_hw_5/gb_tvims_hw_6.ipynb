{
 "cells": [
  {
   "cell_type": "code",
   "execution_count": 16,
   "id": "8f2396e4",
   "metadata": {},
   "outputs": [],
   "source": [
    "import numpy as np\n",
    "import scipy.stats as stats"
   ]
  },
  {
   "cell_type": "markdown",
   "id": "bf6ddcd2",
   "metadata": {},
   "source": [
    "# Задача 1"
   ]
  },
  {
   "cell_type": "code",
   "execution_count": 17,
   "id": "5309aa3c",
   "metadata": {},
   "outputs": [],
   "source": [
    "a = np.array([6.9, 6.1, 6.2, 6.8, 7.5, 6.3, 6.4, 6.9, 6.7, 6.1])"
   ]
  },
  {
   "cell_type": "markdown",
   "id": "1bd3f396",
   "metadata": {},
   "source": [
    "## Среднее значение выборки "
   ]
  },
  {
   "cell_type": "code",
   "execution_count": 18,
   "id": "6abf9e54",
   "metadata": {},
   "outputs": [
    {
     "data": {
      "text/plain": [
       "6.590000000000001"
      ]
     },
     "execution_count": 18,
     "metadata": {},
     "output_type": "execute_result"
    }
   ],
   "source": [
    "a.mean()"
   ]
  },
  {
   "cell_type": "markdown",
   "id": "0618e9db",
   "metadata": {},
   "source": [
    "## Выборочное среднее квадратическое отклонение"
   ]
  },
  {
   "cell_type": "code",
   "execution_count": 19,
   "id": "253de27f",
   "metadata": {},
   "outputs": [
    {
     "data": {
      "text/plain": [
       "0.4508017549014448"
      ]
     },
     "execution_count": 19,
     "metadata": {},
     "output_type": "execute_result"
    }
   ],
   "source": [
    "se = np.sqrt(np.var(a,ddof=1 ))\n",
    "se"
   ]
  },
  {
   "cell_type": "markdown",
   "id": "649ef0a0",
   "metadata": {},
   "source": [
    "## Критерий Стьюдента"
   ]
  },
  {
   "cell_type": "code",
   "execution_count": 20,
   "id": "40ec146f",
   "metadata": {},
   "outputs": [
    {
     "data": {
      "text/plain": [
       "2.2621571627409915"
      ]
     },
     "execution_count": 20,
     "metadata": {},
     "output_type": "execute_result"
    }
   ],
   "source": [
    "t = stats.t.ppf(0.975,len(a)-1)\n",
    "t"
   ]
  },
  {
   "cell_type": "code",
   "execution_count": 21,
   "id": "2be85d0c",
   "metadata": {},
   "outputs": [
    {
     "data": {
      "text/plain": [
       "6.267515851415713"
      ]
     },
     "execution_count": 21,
     "metadata": {},
     "output_type": "execute_result"
    }
   ],
   "source": [
    "a.mean()-t*se/np.sqrt(len(a))"
   ]
  },
  {
   "cell_type": "code",
   "execution_count": 22,
   "id": "906fc916",
   "metadata": {},
   "outputs": [
    {
     "data": {
      "text/plain": [
       "6.912484148584288"
      ]
     },
     "execution_count": 22,
     "metadata": {},
     "output_type": "execute_result"
    }
   ],
   "source": [
    "a.mean()+t*se/np.sqrt(len(a))"
   ]
  },
  {
   "cell_type": "markdown",
   "id": "6297bba7",
   "metadata": {},
   "source": [
    "## Доверительный интервал для математического ожидания \n",
    "$$\n",
    "[6.25,6.91]\n",
    "$$"
   ]
  },
  {
   "cell_type": "markdown",
   "id": "352f8eb6",
   "metadata": {},
   "source": [
    "# Задача 2"
   ]
  },
  {
   "cell_type": "code",
   "execution_count": null,
   "id": "7e9660b4",
   "metadata": {},
   "outputs": [],
   "source": [
    "#3 Рост дочерей 175, 167, 154, 174, 178, 148, 160, 167, 169, 170\n",
    "#Рост матерей 178, 165, 165, 173, 168, 155, 160, 164, 178, 175\n",
    "#Используя эти данные построить 95% доверительный интервал для разности среднего роста родителей и детей."
   ]
  },
  {
   "cell_type": "code",
   "execution_count": 23,
   "id": "e7d0f7e9",
   "metadata": {},
   "outputs": [],
   "source": [
    "a = np.array([175, 167, 154, 174, 178, 148, 160, 167, 169, 170])\n",
    "b = np.array([178, 165, 165, 173, 168, 155, 160, 164, 178, 175])"
   ]
  },
  {
   "cell_type": "markdown",
   "id": "c0688b01",
   "metadata": {},
   "source": [
    "## Вычислим дельту средних значений"
   ]
  },
  {
   "cell_type": "code",
   "execution_count": 38,
   "id": "552b91ee",
   "metadata": {},
   "outputs": [
    {
     "data": {
      "text/plain": [
       "1.9000000000000057"
      ]
     },
     "execution_count": 38,
     "metadata": {},
     "output_type": "execute_result"
    }
   ],
   "source": [
    "x_1 = a.mean()\n",
    "x_2 = b.mean()\n",
    "delta = x_2 - x_1\n",
    "delta"
   ]
  },
  {
   "cell_type": "markdown",
   "id": "cca5e642",
   "metadata": {},
   "source": [
    "## Стандартная ошибка разности средних"
   ]
  },
  {
   "cell_type": "code",
   "execution_count": 39,
   "id": "3a3de734",
   "metadata": {
    "scrolled": true
   },
   "outputs": [
    {
     "data": {
      "text/plain": [
       "3.983455367726199"
      ]
     },
     "execution_count": 39,
     "metadata": {},
     "output_type": "execute_result"
    }
   ],
   "source": [
    "D1 = np.var(a, ddof=1) # несмещенная дисперсия для выборки 1\n",
    "D2 = np.var(b, ddof=2) # несмещенная дисперсия для выборки 1\n",
    "D = (D1+D2)/2\n",
    "SE = np.sqrt(D/10+D/10)\n",
    "SE"
   ]
  },
  {
   "cell_type": "markdown",
   "id": "c07da627",
   "metadata": {},
   "source": [
    "## Критерий Стьюдента"
   ]
  },
  {
   "cell_type": "code",
   "execution_count": 40,
   "id": "20ffc801",
   "metadata": {},
   "outputs": [
    {
     "data": {
      "text/plain": [
       "2.10092204024096"
      ]
     },
     "execution_count": 40,
     "metadata": {},
     "output_type": "execute_result"
    }
   ],
   "source": [
    "t = stats.t.ppf(0.975,2*(len(a)-1))\n",
    "t"
   ]
  },
  {
   "cell_type": "markdown",
   "id": "a60b564b",
   "metadata": {},
   "source": [
    "## Верхняя и нижняя границу"
   ]
  },
  {
   "cell_type": "code",
   "execution_count": 41,
   "id": "3d73072d",
   "metadata": {},
   "outputs": [
    {
     "data": {
      "text/plain": [
       "-6.4689291783721234"
      ]
     },
     "execution_count": 41,
     "metadata": {},
     "output_type": "execute_result"
    }
   ],
   "source": [
    "L = delta - t*SE\n",
    "L"
   ]
  },
  {
   "cell_type": "code",
   "execution_count": 42,
   "id": "7ea89a66",
   "metadata": {},
   "outputs": [
    {
     "data": {
      "text/plain": [
       "10.268929178372135"
      ]
     },
     "execution_count": 42,
     "metadata": {},
     "output_type": "execute_result"
    }
   ],
   "source": [
    "U = delta + t*SE\n",
    "U"
   ]
  },
  {
   "cell_type": "markdown",
   "id": "5e57d5a4",
   "metadata": {},
   "source": [
    "## Доверительный интервал \n",
    "$$\n",
    "[-10.268,6.468]\n",
    "$$"
   ]
  },
  {
   "cell_type": "code",
   "execution_count": null,
   "id": "c22f3e77",
   "metadata": {},
   "outputs": [],
   "source": []
  },
  {
   "cell_type": "markdown",
   "id": "b57987bd",
   "metadata": {},
   "source": [
    "# Задача 1 "
   ]
  },
  {
   "cell_type": "markdown",
   "id": "fcdcdbf2",
   "metadata": {},
   "source": [
    "$$\n",
    "MX = 80; \\; n = 256; \\; \\gamma = 0.95; \\; \\sigma = 14; \\; t_{\\gamma} = 1.96\n",
    "$$"
   ]
  },
  {
   "cell_type": "markdown",
   "id": "31a3c420",
   "metadata": {},
   "source": [
    "$$\n",
    "\\bar{x} \\pm t_{\\gamma} \\cdot \\frac{\\sigma}{\\sqrt{n}}\n",
    "$$"
   ]
  },
  {
   "cell_type": "markdown",
   "id": "121ddab2",
   "metadata": {},
   "source": [
    "$$\n",
    "80 \\pm 1.96 \\cdot \\frac{14}{16}\n",
    "$$"
   ]
  },
  {
   "cell_type": "markdown",
   "id": "4e0a8ae7",
   "metadata": {},
   "source": [
    "## Доверительный интервал "
   ]
  },
  {
   "cell_type": "markdown",
   "id": "fdbc5700",
   "metadata": {},
   "source": [
    "$$\n",
    "[78.285; 81.715]\n",
    "$$"
   ]
  },
  {
   "cell_type": "code",
   "execution_count": null,
   "id": "4abf5430",
   "metadata": {},
   "outputs": [],
   "source": []
  }
 ],
 "metadata": {
  "kernelspec": {
   "display_name": "Python 3",
   "language": "python",
   "name": "python3"
  },
  "language_info": {
   "codemirror_mode": {
    "name": "ipython",
    "version": 3
   },
   "file_extension": ".py",
   "mimetype": "text/x-python",
   "name": "python",
   "nbconvert_exporter": "python",
   "pygments_lexer": "ipython3",
   "version": "3.8.8"
  }
 },
 "nbformat": 4,
 "nbformat_minor": 5
}
