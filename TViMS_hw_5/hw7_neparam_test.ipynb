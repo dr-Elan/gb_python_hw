{
 "cells": [
  {
   "cell_type": "code",
   "execution_count": 6,
   "id": "550a63f3",
   "metadata": {},
   "outputs": [],
   "source": [
    "import scipy.stats as stats\n",
    "import numpy as np"
   ]
  },
  {
   "cell_type": "markdown",
   "id": "033a084c",
   "metadata": {},
   "source": [
    "# Задача 1"
   ]
  },
  {
   "cell_type": "code",
   "execution_count": 7,
   "id": "a4dd9479",
   "metadata": {},
   "outputs": [],
   "source": [
    "x1 =np.array([380,420,290]) \n",
    "y1 =np.array([140,360,200,900]) "
   ]
  },
  {
   "cell_type": "code",
   "execution_count": 9,
   "id": "6d24722e",
   "metadata": {},
   "outputs": [
    {
     "data": {
      "text/plain": [
       "MannwhitneyuResult(statistic=8.0, pvalue=0.6285714285714286)"
      ]
     },
     "execution_count": 9,
     "metadata": {},
     "output_type": "execute_result"
    }
   ],
   "source": [
    "stats.mannwhitneyu(x1,y1)"
   ]
  },
  {
   "cell_type": "markdown",
   "id": "b63993c4",
   "metadata": {},
   "source": [
    "## Нулевую гипотезу о отсутствии различий не отвергаем"
   ]
  },
  {
   "cell_type": "markdown",
   "id": "067fa8d4",
   "metadata": {},
   "source": [
    "# Задача 2"
   ]
  },
  {
   "cell_type": "code",
   "execution_count": 10,
   "id": "6d77324f",
   "metadata": {},
   "outputs": [
    {
     "data": {
      "text/plain": [
       "FriedmanchisquareResult(statistic=9.578947368421062, pvalue=0.00831683351100441)"
      ]
     },
     "execution_count": 10,
     "metadata": {},
     "output_type": "execute_result"
    }
   ],
   "source": [
    "izm1 = np.array([150, 160, 165, 145, 155])\n",
    "izm2 = np.array([140, 155, 150, 130, 135])\n",
    "izm3 = np.array([130, 130, 120, 130, 125])\n",
    "\n",
    "stats.friedmanchisquare(izm1, izm2,izm3)"
   ]
  },
  {
   "cell_type": "markdown",
   "id": "7ebe5f8f",
   "metadata": {},
   "source": [
    "## Различия статистически значимы, при уровни значимости 0.05"
   ]
  },
  {
   "cell_type": "markdown",
   "id": "c2b797dc",
   "metadata": {},
   "source": [
    "# Задача 3"
   ]
  },
  {
   "cell_type": "code",
   "execution_count": 11,
   "id": "aeac044e",
   "metadata": {},
   "outputs": [
    {
     "data": {
      "text/plain": [
       "WilcoxonResult(statistic=0.0, pvalue=0.0625)"
      ]
     },
     "execution_count": 11,
     "metadata": {},
     "output_type": "execute_result"
    }
   ],
   "source": [
    "izm1 = np.array([150, 160, 165, 145, 155])\n",
    "izm2 = np.array([140, 155, 150, 130, 135])\n",
    "\n",
    "stats.wilcoxon(izm1,izm2)"
   ]
  },
  {
   "cell_type": "markdown",
   "id": "c188412e",
   "metadata": {},
   "source": [
    "## Различия статистически незначимы при уровни значимости 0.05"
   ]
  },
  {
   "cell_type": "markdown",
   "id": "b23e00e5",
   "metadata": {},
   "source": [
    "# Задача 4"
   ]
  },
  {
   "cell_type": "code",
   "execution_count": 12,
   "id": "4d303f26",
   "metadata": {},
   "outputs": [
    {
     "data": {
      "text/plain": [
       "KruskalResult(statistic=5.465564058257224, pvalue=0.0650380998590494)"
      ]
     },
     "execution_count": 12,
     "metadata": {},
     "output_type": "execute_result"
    }
   ],
   "source": [
    "gr_1 = np.array([56, 60, 62, 55, 71, 67, 59, 58, 64, 67])\n",
    "gr_2 = np.array([57, 58, 69, 48, 72, 70, 68, 71, 50, 53])\n",
    "gr_3 = np.array([57, 67, 49, 48, 47, 55, 66, 51, 54])\n",
    "\n",
    "stats.kruskal(gr_1,gr_2,gr_3)"
   ]
  },
  {
   "cell_type": "markdown",
   "id": "b10c736a",
   "metadata": {},
   "source": [
    "### Различия статистически незначимы."
   ]
  },
  {
   "cell_type": "code",
   "execution_count": 13,
   "id": "8acf525c",
   "metadata": {},
   "outputs": [],
   "source": [
    "sx = np.array([2.51, 2.35, 2.74, 2.56, 2.40, 2.36, 2.65, 2.7, 2.67, 2.34])"
   ]
  },
  {
   "cell_type": "code",
   "execution_count": 16,
   "id": "b7d8c11c",
   "metadata": {},
   "outputs": [
    {
     "data": {
      "text/plain": [
       "0.02472888888888891"
      ]
     },
     "execution_count": 16,
     "metadata": {},
     "output_type": "execute_result"
    }
   ],
   "source": [
    "np.mean(sx)\n",
    "np.var(sx,ddof=1)"
   ]
  },
  {
   "cell_type": "code",
   "execution_count": 17,
   "id": "bc24bed0",
   "metadata": {},
   "outputs": [
    {
     "data": {
      "text/plain": [
       "0.563061366180296"
      ]
     },
     "execution_count": 17,
     "metadata": {},
     "output_type": "execute_result"
    }
   ],
   "source": [
    "(np.mean(sx) - 2.5)/np.sqrt(np.var(sx,ddof=1))*np.sqrt(len(sx))"
   ]
  },
  {
   "cell_type": "code",
   "execution_count": 19,
   "id": "12a4021c",
   "metadata": {},
   "outputs": [
    {
     "data": {
      "text/plain": [
       "2.2621571627409915"
      ]
     },
     "execution_count": 19,
     "metadata": {},
     "output_type": "execute_result"
    }
   ],
   "source": [
    "t1 = stats.t.ppf(0.975,len(sx)-1)\n",
    "t1"
   ]
  },
  {
   "cell_type": "markdown",
   "id": "d14782ec",
   "metadata": {},
   "source": [
    "### Значение критерия меньше критического значения. Нулевую гипотезу не отвергаем"
   ]
  },
  {
   "cell_type": "code",
   "execution_count": null,
   "id": "98d111a6",
   "metadata": {},
   "outputs": [],
   "source": []
  }
 ],
 "metadata": {
  "kernelspec": {
   "display_name": "Python 3",
   "language": "python",
   "name": "python3"
  },
  "language_info": {
   "codemirror_mode": {
    "name": "ipython",
    "version": 3
   },
   "file_extension": ".py",
   "mimetype": "text/x-python",
   "name": "python",
   "nbconvert_exporter": "python",
   "pygments_lexer": "ipython3",
   "version": "3.8.8"
  }
 },
 "nbformat": 4,
 "nbformat_minor": 5
}
