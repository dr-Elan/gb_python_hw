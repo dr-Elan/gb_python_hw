{
 "cells": [
  {
   "cell_type": "code",
   "execution_count": 19,
   "id": "b57a117b",
   "metadata": {},
   "outputs": [],
   "source": [
    "import numpy as np\n",
    "from sklearn.linear_model import LinearRegression"
   ]
  },
  {
   "cell_type": "markdown",
   "id": "15d0bfb6",
   "metadata": {},
   "source": [
    "# Задача 1"
   ]
  },
  {
   "cell_type": "code",
   "execution_count": 33,
   "id": "a07c0eb7",
   "metadata": {},
   "outputs": [],
   "source": [
    "zp = np.array([35, 45, 190, 200, 40, 70, 54, 150, 120, 110])\n",
    "ks = np.array([401, 574, 874, 919, 459, 739, 653, 902, 746, 832])"
   ]
  },
  {
   "cell_type": "markdown",
   "id": "1d217b9f",
   "metadata": {},
   "source": [
    "### Для регрессии с интерсептом \n",
    "#### $$ \\hat{y} = \\hat{\\beta_0} + \\hat{\\beta_1} x $$\n"
   ]
  },
  {
   "cell_type": "code",
   "execution_count": 11,
   "id": "9b8d3c41",
   "metadata": {},
   "outputs": [
    {
     "data": {
      "text/plain": [
       "2.620538882402765"
      ]
     },
     "execution_count": 11,
     "metadata": {},
     "output_type": "execute_result"
    }
   ],
   "source": [
    "beta1 = (np.mean(zp*ks) - np.mean(zp)*np.mean(ks))/(np.mean(zp**2)-np.mean(zp)**2)\n",
    "beta1"
   ]
  },
  {
   "cell_type": "code",
   "execution_count": 13,
   "id": "e531cb12",
   "metadata": {},
   "outputs": [
    {
     "data": {
      "text/plain": [
       "444.1773573243596"
      ]
     },
     "execution_count": 13,
     "metadata": {},
     "output_type": "execute_result"
    }
   ],
   "source": [
    "beta0 = np.mean(ks) - beta1*np.mean(zp)\n",
    "beta0"
   ]
  },
  {
   "cell_type": "code",
   "execution_count": 29,
   "id": "666d8bd3",
   "metadata": {},
   "outputs": [],
   "source": [
    "model = LinearRegression()"
   ]
  },
  {
   "cell_type": "code",
   "execution_count": 22,
   "id": "acc32d9f",
   "metadata": {},
   "outputs": [
    {
     "data": {
      "text/plain": [
       "array([[ 35],\n",
       "       [ 45],\n",
       "       [190],\n",
       "       [200],\n",
       "       [ 40],\n",
       "       [ 70],\n",
       "       [ 54],\n",
       "       [150],\n",
       "       [120],\n",
       "       [110]])"
      ]
     },
     "execution_count": 22,
     "metadata": {},
     "output_type": "execute_result"
    }
   ],
   "source": [
    "zp = zp.reshape(-1,1)\n",
    "zp"
   ]
  },
  {
   "cell_type": "code",
   "execution_count": 31,
   "id": "1863c1b4",
   "metadata": {},
   "outputs": [
    {
     "name": "stdout",
     "output_type": "stream",
     "text": [
      "444.1773573243595\n"
     ]
    }
   ],
   "source": [
    "regres = model.fit(zp,ks)\n",
    "print(regres.intercept_)"
   ]
  },
  {
   "cell_type": "markdown",
   "id": "2cc7d28a",
   "metadata": {},
   "source": [
    "# Для регрессии без интерсепта \n",
    "#### $$ \\hat{y} =  \\hat{\\beta_1} x  $$"
   ]
  },
  {
   "cell_type": "code",
   "execution_count": 40,
   "id": "2cc5efa9",
   "metadata": {},
   "outputs": [
    {
     "data": {
      "text/plain": [
       "5.889820420132688"
      ]
     },
     "execution_count": 40,
     "metadata": {},
     "output_type": "execute_result"
    }
   ],
   "source": [
    "beta1 = np.mean(ks*zp)/np.mean(zp**2)\n",
    "beta1"
   ]
  },
  {
   "cell_type": "markdown",
   "id": "57584762",
   "metadata": {},
   "source": [
    "# Задача 2"
   ]
  },
  {
   "cell_type": "code",
   "execution_count": 62,
   "id": "102cab4c",
   "metadata": {},
   "outputs": [],
   "source": [
    "alpha = 1e-6\n",
    "def mse_(beta1,beta0=0, y = ks, x = zp, n=len(zp)):\n",
    "    return np.sum((beta1*x - y)**2)/n"
   ]
  },
  {
   "cell_type": "code",
   "execution_count": 63,
   "id": "5bae7c65",
   "metadata": {},
   "outputs": [
    {
     "name": "stdout",
     "output_type": "stream",
     "text": [
      "Iternanion0, beta1 = 0.25952808, mse = 493237.7212546963\n",
      "Iternanion500, beta1 = 5.889815595583751, mse = 56516.858416040064\n",
      "Iternanion1000, beta1 = 5.8898204201285544, mse = 56516.85841571941\n",
      "Iternanion1500, beta1 = 5.889820420132673, mse = 56516.85841571943\n",
      "Iternanion2000, beta1 = 5.889820420132673, mse = 56516.85841571943\n",
      "Iternanion2500, beta1 = 5.889820420132673, mse = 56516.85841571943\n"
     ]
    }
   ],
   "source": [
    "#mse = 1/n * np.sum((beta1*x - y)**2)\n",
    "#mse_deriv = (2/n)*np.sum((beta1*x - y)*X)\n",
    "beta1 = 0.1\n",
    "n=len(zp)\n",
    "for i in range(3000):\n",
    "    beta1 -= alpha*(2/n)*np.sum((beta1 * zp - ks)*zp)\n",
    "    if i % 500 == 0:\n",
    "        print('Iternanion{i}, beta1 = {beta1}, mse = {mse}'.format(i=i,beta1=beta1, mse = mse_(beta1)))"
   ]
  },
  {
   "cell_type": "code",
   "execution_count": 64,
   "id": "50fac3a2",
   "metadata": {},
   "outputs": [
    {
     "data": {
      "text/plain": [
       "56516.85841571943"
      ]
     },
     "execution_count": 64,
     "metadata": {},
     "output_type": "execute_result"
    }
   ],
   "source": [
    "mse_(beta1)"
   ]
  },
  {
   "cell_type": "markdown",
   "id": "70a9ba02",
   "metadata": {},
   "source": [
    "# Задача 3"
   ]
  },
  {
   "cell_type": "code",
   "execution_count": 65,
   "id": "45b1975c",
   "metadata": {},
   "outputs": [
    {
     "name": "stdout",
     "output_type": "stream",
     "text": [
      "Iternanion0, beta0 = 8.153554873217823,beta1 = 0.25790568, mse = 493489.44460024964\n",
      "Iternanion500, beta0 = 13.533422583374001,beta1 = 5.790205966407606, mse = 56653.56416019271\n",
      "Iternanion1000, beta0 = 13.533426748761823,beta1 = 5.790210249817047, mse = 56653.55240378459\n",
      "Iternanion1500, beta0 = 13.533426748765024,beta1 = 5.7902102498203485, mse = 56653.552403775546\n",
      "Iternanion2000, beta0 = 13.533426748765024,beta1 = 5.7902102498203485, mse = 56653.552403775546\n",
      "Iternanion2500, beta0 = 13.533426748765024,beta1 = 5.7902102498203485, mse = 56653.552403775546\n"
     ]
    }
   ],
   "source": [
    "#mse = 1/n * np.sum((beta1*x + beta0 - y)**2)\n",
    "#mse_deriv = (2/n)*np.sum((beta1*x + beta0 - y)*X)\n",
    "beta1 = 0.1\n",
    "beta0 = 8\n",
    "n=len(zp)\n",
    "for i in range(3000):\n",
    "    beta1 -= alpha*(2/n)*np.sum((beta1 * zp + beta0 - ks)*zp)\n",
    "    beta0 -= alpha*(2/n)*np.sum((beta1 * zp + beta0 - ks)*zp)\n",
    "    if i % 500 == 0:\n",
    "        print('Iternanion{i}, beta0 = {beta0},beta1 = {beta1}, mse = {mse}'.format(i=i,beta0 = beta0, beta1=beta1, mse = mse_(beta1, beta0)))"
   ]
  },
  {
   "cell_type": "code",
   "execution_count": 66,
   "id": "4c23e4de",
   "metadata": {},
   "outputs": [
    {
     "data": {
      "text/plain": [
       "56653.552403775546"
      ]
     },
     "execution_count": 66,
     "metadata": {},
     "output_type": "execute_result"
    }
   ],
   "source": [
    "mse_(beta1, beta0)"
   ]
  },
  {
   "cell_type": "code",
   "execution_count": null,
   "id": "5c56dcf4",
   "metadata": {},
   "outputs": [],
   "source": []
  }
 ],
 "metadata": {
  "kernelspec": {
   "display_name": "Python 3",
   "language": "python",
   "name": "python3"
  },
  "language_info": {
   "codemirror_mode": {
    "name": "ipython",
    "version": 3
   },
   "file_extension": ".py",
   "mimetype": "text/x-python",
   "name": "python",
   "nbconvert_exporter": "python",
   "pygments_lexer": "ipython3",
   "version": "3.8.8"
  }
 },
 "nbformat": 4,
 "nbformat_minor": 5
}
